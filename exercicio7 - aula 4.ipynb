{
 "cells": [
  {
   "cell_type": "markdown",
   "metadata": {},
   "source": [
    "<div class=\"alert alert-block alert-info\">\n",
    "    <h1>Regressão Linear - Exercício de previsão de preço de locação</h1>\n",
    "</div>"
   ]
  },
  {
   "cell_type": "code",
   "execution_count": 3,
   "metadata": {},
   "outputs": [
    {
     "data": {
      "image/png": "[encoded data removed]",
      "text/plain": [
       "<Figure size 432x288 with 1 Axes>"
      ]
     },
     "metadata": {
      "needs_background": "light"
     },
     "output_type": "display_data"
    }
   ],
   "source": [
    "#Plot inicial - primeiras intuições\n",
    "\n",
    "from numpy import *\n",
    "import matplotlib.pyplot as plt\n",
    "\n",
    "#Valores de x e y inventados para o exercício.\n",
    "x = array([40,50,80,110,140,160])\n",
    "y = array([700,800,1000,1500,2000,2500])\n",
    "#x = área em metros quadrados\n",
    "#y = preço de locação\n",
    "\n",
    "#Plot the dataset\n",
    "plt.scatter(x,y)\n",
    "plt.xlabel('Área Construída')\n",
    "plt.ylabel('Preça de Locação')\n",
    "plt.title('Conjunto de Dados - Preço de Locação')\n",
    "plt.show()"
   ]
  },
  {
   "cell_type": "code",
   "execution_count": 4,
   "metadata": {},
   "outputs": [
    {
     "name": "stdout",
     "output_type": "stream",
     "text": [
      "alpha 5.113636363636488\n",
      "beta 14.602272727272727\n"
     ]
    }
   ],
   "source": [
    "#Exercício aula 04 parte 2\n",
    "#Determinação coeficientes Alfa e Beta da curva de melhor ajuste\n",
    "\n",
    "import numpy as np\n",
    "def solucao_analitica(x,y):\n",
    "    beta = np.corrcoef(x, y)[0,1] * np.std(y) / np.std(x)\n",
    "    alpha = mean(y) - beta * mean(x)\n",
    "    return alpha, beta\n",
    "\n",
    "alpha, beta = solucao_analitica(x, y)\n",
    "print(\"alpha\", alpha)\n",
    "print(\"beta\", beta)"
   ]
  },
  {
   "cell_type": "code",
   "execution_count": 5,
   "metadata": {},
   "outputs": [
    {
     "name": "stdout",
     "output_type": "stream",
     "text": [
      "[[1.         0.98315288]\n",
      " [0.98315288 1.        ]]\n",
      "Correlacao_XY =  0.9832\n",
      "R^2 =  0.9666\n"
     ]
    }
   ],
   "source": [
    "#Exercício aula 04 parte 2\n",
    "#Determinação do coeficiente de correlação e R^2 do conjunto de dados\n",
    "\n",
    "import numpy as np\n",
    "\n",
    "correlation_matrix = np.corrcoef(x, y)\n",
    "\n",
    "print(correlation_matrix)\n",
    "\n",
    "correlation_xy = correlation_matrix[0,1]\n",
    "\n",
    "print(\"Correlacao_XY = \", round(correlation_xy, 4))\n",
    "\n",
    "r_squared = correlation_xy**2\n",
    "print(\"R^2 = \", round(r_squared, 4))"
   ]
  },
  {
   "cell_type": "code",
   "execution_count": 9,
   "metadata": {},
   "outputs": [
    {
     "name": "stdout",
     "output_type": "stream",
     "text": [
      "Com base na análise de regressão os valores de aluguel seriam de aproximadamente:\n",
      "60m² =  881.2500000000001\n",
      "120m² =  1757.3863636363637\n",
      "150m² =  2195.4545454545455\n"
     ]
    },
    {
     "data": {
      "image/png": "[encoded data removed]",
      "text/plain": [
       "<Figure size 432x288 with 1 Axes>"
      ]
     },
     "metadata": {
      "needs_background": "light"
     },
     "output_type": "display_data"
    },
    {
     "name": "stdout",
     "output_type": "stream",
     "text": [
      "[-210.94, -83.74, 6.21, 11.61, 14.08, 9.04]\n"
     ]
    }
   ],
   "source": [
    "#Exercício aula 04 parte 2\n",
    "#Previsão de valores de aluguel para um imóvel com área de 60, 120 e 150 m^2\n",
    "\n",
    "x_reais = [40,50,80,110,140,160]\n",
    "y_reais = [700,800,1000,1500,2000,2500]\n",
    "\n",
    "m = (len(x)*cov(x, y)[0,1])/((len(x) - 1)*var(x))\n",
    "b = mean(y) - m * mean(x)\n",
    "\n",
    "y_regressao =  [m * x + b for x in x_reais]\n",
    "\n",
    "plt.scatter(x_reais, y_reais, c='b')\n",
    "plt.scatter(x_reais, y_regressao, c='k')\n",
    "\n",
    "print('Com base na análise de regressão os valores de aluguel seriam de aproximadamente:')\n",
    "\n",
    "#pred_formula = beta * x + alpha\n",
    "\n",
    "x1 = 60 \n",
    "x2 = 120\n",
    "x3 = 150\n",
    "\n",
    "pred_formula1 = beta * x1 + alpha\n",
    "print ('60m² = ', pred_formula1)\n",
    "\n",
    "pred_formula2 = beta * x2 + alpha\n",
    "print ('120m² = ', pred_formula2)\n",
    "\n",
    "pred_formula3 = beta * x3 + alpha\n",
    "print ('150m² = ', pred_formula3)\n",
    "\n",
    "plt.plot(x, pred, c='r')\n",
    "\n",
    "plt.show()\n",
    "\n",
    "erro_proporcional = [round(100*(1 - i/j),2) for i, j in zip(y_reais, y_regressao)]\n",
    "print(erro_proporcional)"
   ]
  }
 ],
 "metadata": {
  "kernelspec": {
   "display_name": "Python 3",
   "language": "python",
   "name": "python3"
  },
  "language_info": {
   "codemirror_mode": {
    "name": "ipython",
    "version": 3
   },
   "file_extension": ".py",
   "mimetype": "text/x-python",
   "name": "python",
   "nbconvert_exporter": "python",
   "pygments_lexer": "ipython3",
   "version": "3.7.4"
  }
 },
 "nbformat": 4,
 "nbformat_minor": 2
}
